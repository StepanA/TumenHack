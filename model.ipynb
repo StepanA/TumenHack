{
 "cells": [
  {
   "cell_type": "code",
   "execution_count": 1,
   "id": "61247a59",
   "metadata": {},
   "outputs": [],
   "source": [
    "import numpy as np\n",
    "import pandas as pd"
   ]
  },
  {
   "cell_type": "code",
   "execution_count": 2,
   "id": "4501bb5c",
   "metadata": {},
   "outputs": [],
   "source": [
    "users = pd.read_csv('data/users.csv', sep=';', index_col=None, \n",
    "                    dtype={'age': str, 'chb': str, 'chit_type': str, 'gender': str})\n",
    "items = pd.read_csv('data/items.csv', sep=';', index_col=None, \n",
    "                    dtype={'author': str, 'bbk': str, 'izd': str, 'sys_numb': str, 'title': str, 'year_izd': str})\n",
    "transactions = pd.read_csv('data/train_transactions_extended.csv', sep=';', index_col=None,\n",
    "                           dtype={'chb': str, 'date_1': str, 'is_printed': str, 'is_real': str, 'source': str,\n",
    "                                  'sys_numb': str, 'type': str})"
   ]
  },
  {
   "cell_type": "markdown",
   "id": "323a9925",
   "metadata": {},
   "source": [
    "# Топ 20 книг не являющихся открыткой к рождеству"
   ]
  },
  {
   "cell_type": "code",
   "execution_count": 3,
   "id": "7621273c",
   "metadata": {},
   "outputs": [
    {
     "name": "stdout",
     "output_type": "stream",
     "text": [
      "['RSL07000449201', 'RSL01004357029', 'RSL01006724299', 'RSL01010175347', 'RSL01007886433', 'RSL01004400764', 'RSL01002745675', 'RSL07000372451', 'RSL01004915983', 'RSL01004246481', 'RSL01006754569', 'RSL01002496664', 'RSL01002884697', 'RSL01001842474', 'RSL01000193246', 'RSL01009438671', 'RSL01003955862', 'RSL01002463969', 'RSL01000741775', 'RSL01009740053']\n"
     ]
    }
   ],
   "source": [
    "christ_books = items[['С Рождеством Христовым'.lower() in str(x).lower()\n",
    "                      for x in items['title'].values]]['sys_numb'].unique()\n",
    "\n",
    "mask = ~transactions['sys_numb'].isin(christ_books)\n",
    "top_books = transactions.loc[mask, 'sys_numb'].value_counts().head(20).index.to_list()\n",
    "print(top_books)"
   ]
  },
  {
   "cell_type": "markdown",
   "id": "08221ba5",
   "metadata": {},
   "source": [
    "# Удаление повторного прочтения книг"
   ]
  },
  {
   "cell_type": "code",
   "execution_count": 4,
   "id": "9efc7d01",
   "metadata": {},
   "outputs": [
    {
     "name": "stdout",
     "output_type": "stream",
     "text": [
      "(259566, 7)\n",
      "(229002, 7)\n"
     ]
    }
   ],
   "source": [
    "print(transactions.shape)\n",
    "transactions = transactions.groupby(['chb', 'sys_numb']).first().reset_index()\n",
    "print(transactions.shape)"
   ]
  },
  {
   "cell_type": "code",
   "execution_count": 5,
   "id": "dd3f824a",
   "metadata": {},
   "outputs": [],
   "source": [
    "# Функция прогнозирования на основе похожести пользователей\n",
    "\n",
    "def predict_user(user_data, transactions, top_books):\n",
    "    user_number = user_data['chb'].values[0]\n",
    "    user_books = set(user_data['sys_numb'].unique())\n",
    "    \n",
    "    # Транзакции по пользователям, которые прочитали как минимум одну книгу из списка для целевого пользователя\n",
    "    cross_users_data = transactions[(transactions['chb'] != user_number) & \n",
    "                                    (transactions['sys_numb'].isin(user_books))][['chb', 'sys_numb']]    \n",
    "    \n",
    "    if cross_users_data.shape[0] > 0:\n",
    "        cross_users_rates = cross_users_data['chb'].value_counts()\n",
    "        cross_users_rates.name = 'score'\n",
    "        \n",
    "        rate = transactions['chb'].value_counts().apply(np.log1p)\n",
    "        cross_users_rates = cross_users_rates.apply(np.log1p)  \n",
    "        cross_users_rates /= rate.loc[cross_users_rates.index]   \n",
    "\n",
    "        cross_users = cross_users_rates.index.to_list()   \n",
    "        cross_users_books =  transactions[(transactions['chb'].isin(cross_users)) & \n",
    "                                          (~transactions['sys_numb'].isin(user_books))]        \n",
    "\n",
    "        score_books = pd.merge(cross_users_books, cross_users_rates, left_on='chb', right_index=True, how='left')\n",
    "        top20 = score_books.groupby('sys_numb').sum().sort_values('score', ascending=False).head(20).index.to_list()\n",
    "        top20 = (top20 + top_books)[:20]        \n",
    "    else:\n",
    "        return top_books\n",
    "    \n",
    "    return top20"
   ]
  },
  {
   "cell_type": "code",
   "execution_count": 6,
   "id": "22c2d3cc",
   "metadata": {},
   "outputs": [
    {
     "name": "stdout",
     "output_type": "stream",
     "text": [
      "Wall time: 11min 43s\n"
     ]
    }
   ],
   "source": [
    "%%time\n",
    "solution = transactions.groupby('chb').apply(predict_user, transactions, top_books)"
   ]
  },
  {
   "cell_type": "code",
   "execution_count": 7,
   "id": "10811675",
   "metadata": {},
   "outputs": [
    {
     "data": {
      "text/html": [
       "<div>\n",
       "<style scoped>\n",
       "    .dataframe tbody tr th:only-of-type {\n",
       "        vertical-align: middle;\n",
       "    }\n",
       "\n",
       "    .dataframe tbody tr th {\n",
       "        vertical-align: top;\n",
       "    }\n",
       "\n",
       "    .dataframe thead th {\n",
       "        text-align: right;\n",
       "    }\n",
       "</style>\n",
       "<table border=\"1\" class=\"dataframe\">\n",
       "  <thead>\n",
       "    <tr style=\"text-align: right;\">\n",
       "      <th></th>\n",
       "      <th>chb</th>\n",
       "      <th>sys_numb</th>\n",
       "    </tr>\n",
       "  </thead>\n",
       "  <tbody>\n",
       "    <tr>\n",
       "      <th>0</th>\n",
       "      <td>100000641403</td>\n",
       "      <td>RSL01002393437</td>\n",
       "    </tr>\n",
       "    <tr>\n",
       "      <th>0</th>\n",
       "      <td>100000641403</td>\n",
       "      <td>RSL01003441482</td>\n",
       "    </tr>\n",
       "    <tr>\n",
       "      <th>0</th>\n",
       "      <td>100000641403</td>\n",
       "      <td>RSL02000000555</td>\n",
       "    </tr>\n",
       "    <tr>\n",
       "      <th>0</th>\n",
       "      <td>100000641403</td>\n",
       "      <td>RSL01008740130</td>\n",
       "    </tr>\n",
       "    <tr>\n",
       "      <th>0</th>\n",
       "      <td>100000641403</td>\n",
       "      <td>RSL01008477654</td>\n",
       "    </tr>\n",
       "    <tr>\n",
       "      <th>...</th>\n",
       "      <td>...</td>\n",
       "      <td>...</td>\n",
       "    </tr>\n",
       "    <tr>\n",
       "      <th>16752</th>\n",
       "      <td>400001035059</td>\n",
       "      <td>RSL01005094668</td>\n",
       "    </tr>\n",
       "    <tr>\n",
       "      <th>16752</th>\n",
       "      <td>400001035059</td>\n",
       "      <td>RSL01006576592</td>\n",
       "    </tr>\n",
       "    <tr>\n",
       "      <th>16752</th>\n",
       "      <td>400001035059</td>\n",
       "      <td>RSL01006672291</td>\n",
       "    </tr>\n",
       "    <tr>\n",
       "      <th>16752</th>\n",
       "      <td>400001035059</td>\n",
       "      <td>RSL01008771476</td>\n",
       "    </tr>\n",
       "    <tr>\n",
       "      <th>16752</th>\n",
       "      <td>400001035059</td>\n",
       "      <td>RSL01008872764</td>\n",
       "    </tr>\n",
       "  </tbody>\n",
       "</table>\n",
       "<p>335060 rows × 2 columns</p>\n",
       "</div>"
      ],
      "text/plain": [
       "                chb        sys_numb\n",
       "0      100000641403  RSL01002393437\n",
       "0      100000641403  RSL01003441482\n",
       "0      100000641403  RSL02000000555\n",
       "0      100000641403  RSL01008740130\n",
       "0      100000641403  RSL01008477654\n",
       "...             ...             ...\n",
       "16752  400001035059  RSL01005094668\n",
       "16752  400001035059  RSL01006576592\n",
       "16752  400001035059  RSL01006672291\n",
       "16752  400001035059  RSL01008771476\n",
       "16752  400001035059  RSL01008872764\n",
       "\n",
       "[335060 rows x 2 columns]"
      ]
     },
     "execution_count": 7,
     "metadata": {},
     "output_type": "execute_result"
    }
   ],
   "source": [
    "solution.name = 'sys_numb'\n",
    "solution = solution.reset_index()\n",
    "solution['sys_numb'] = solution['sys_numb'].replace({' ': top_books})\n",
    "solution = solution.explode('sys_numb')\n",
    "solution"
   ]
  },
  {
   "cell_type": "code",
   "execution_count": 8,
   "id": "54f82576",
   "metadata": {},
   "outputs": [],
   "source": [
    "solution.to_csv('recomendations.csv', index=False, sep=';')"
   ]
  },
  {
   "cell_type": "code",
   "execution_count": null,
   "id": "1f2f62ab",
   "metadata": {},
   "outputs": [],
   "source": []
  }
 ],
 "metadata": {
  "kernelspec": {
   "display_name": "DataScience",
   "language": "python",
   "name": "datascience"
  },
  "language_info": {
   "codemirror_mode": {
    "name": "ipython",
    "version": 3
   },
   "file_extension": ".py",
   "mimetype": "text/x-python",
   "name": "python",
   "nbconvert_exporter": "python",
   "pygments_lexer": "ipython3",
   "version": "3.9.5"
  },
  "toc": {
   "base_numbering": 1,
   "nav_menu": {},
   "number_sections": false,
   "sideBar": true,
   "skip_h1_title": false,
   "title_cell": "Table of Contents",
   "title_sidebar": "Contents",
   "toc_cell": false,
   "toc_position": {
    "height": "calc(100% - 180px)",
    "left": "10px",
    "top": "150px",
    "width": "384px"
   },
   "toc_section_display": true,
   "toc_window_display": true
  }
 },
 "nbformat": 4,
 "nbformat_minor": 5
}
